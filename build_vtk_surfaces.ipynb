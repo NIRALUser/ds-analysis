{
 "cells": [
  {
   "cell_type": "code",
   "execution_count": null,
   "id": "d31c5aed",
   "metadata": {},
   "outputs": [],
   "source": [
    "# %pip install 'pyvista[vtk]'\n",
    "# %pip install nilearn"
   ]
  },
  {
   "cell_type": "code",
   "execution_count": 2,
   "id": "632be9d6",
   "metadata": {},
   "outputs": [],
   "source": [
    "import re\n",
    "import json\n",
    "import numpy as np\n",
    "import pandas as pd\n",
    "import pyvista as pv\n",
    "import matplotlib.pyplot as plt\n",
    "\n",
    "ATLAS = \"AAL+CSF\"\n",
    "workdir = \"/ASD/ahsan_projects/braintypicality/workdir/cuda_opt/learnable/eval\"\n",
    "roi_likelihood_file = f\"{workdir}/heatmaps_v2/roi/{ATLAS}_roi_scores.csv\"\n",
    "\n",
    "roi_likelihoods = pd.read_csv(f\"{workdir}/heatmaps_v2/roi/{ATLAS}_roi_likelihoods.csv\")\n",
    "roi_pct_scores = pd.read_csv(f\"{workdir}/heatmaps_v2/roi/{ATLAS}_roi_scores.csv\")\n",
    "ibis_metadata = pd.read_csv(\"/ASD/ahsan_projects/braintypicality/dataset/ibis_metadata_v2.csv\")\n",
    "ibis_metadata.index = ibis_metadata[\"CandID\"].apply(lambda x: \"IBIS\" + str(x))\n",
    "ibis_metadata.index.name = \"ID\"\n",
    "ibis_metadata = ibis_metadata.astype(np.float32, errors=\"ignore\")"
   ]
  },
  {
   "cell_type": "code",
   "execution_count": 3,
   "id": "3d8af311",
   "metadata": {},
   "outputs": [],
   "source": [
    "from nilearn import datasets, plotting\n",
    "aal = datasets.fetch_atlas_aal(version='SPM12')\n",
    "aal_roi_names = pd.read_csv(f\"{workdir}/aal_labels.csv\")"
   ]
  },
  {
   "cell_type": "markdown",
   "id": "028dd116",
   "metadata": {},
   "source": [
    "### Note that CIVET AAL is likely AAL2(?)\n",
    "We have more brain ROIs via AAL3 e.g. Vermis_* \n",
    "\n",
    "https://www.ncbi.nlm.nih.gov/pmc/articles/PMC6174681/table/t2-jpr-11-2131/\n",
    "\n",
    "https://neurovault.org/images/14257/\n",
    "\n"
   ]
  },
  {
   "cell_type": "code",
   "execution_count": 4,
   "id": "0d78aae9",
   "metadata": {},
   "outputs": [
    {
     "name": "stdout",
     "output_type": "stream",
     "text": [
      "Overwriting data/civet_aal_labels.txt\n"
     ]
    }
   ],
   "source": [
    "%%writefile data/civet_aal_labels.txt\n",
    "Number   Abbreviation    Description\n",
    "27      'REC.L'         'Left Gyrus Rectus'\n",
    "21      'OLF.L'         'Left Olfactory Cortex'\n",
    "5       'ORBsup.L'      'Left Superior frontal gyrus, orbital part'\n",
    "25      'ORBsupmed.L'   'Left Superior frontal gyrus, medial orbital'\n",
    "9       'ORBmid.L'      'Left Middle frontal gyrus orbital part'\n",
    "15      'ORBinf.L'      'Left Inferior frontal gyrus, orbital part'\n",
    "3       'SFGdor.L'      'Left Superior frontal gyrus, dorsolateral'\n",
    "7       'MFG.L'         'Left Middle frontal gyrus'\n",
    "11      'IFGoperc.L'    'Left Inferior frontal gyrus, opercular part'\n",
    "13      'IFGtriang.L'   'Left Inferior frontal gyrus, triangular part'\n",
    "23      'SFGmed.L'      'Left Superior frontal gyrus, medial'\n",
    "19      'SMA.L'         'Left Supplementary motor area'\n",
    "69      'PCL.L'         'Left Paracentral lobule'\n",
    "1       'PreCG.L'       'Left Precentral gyrus'\n",
    "17      'ROL.L'         'Left Rolandic operculum'\n",
    "57      'PoCG.L'        'Left Postcentral gyrus'\n",
    "59      'SPG.L'         'Left Superior parietal gyrus'\n",
    "61      'IPL.L'         'Left Inferior parietal, but supramarginal and angular gyri'\n",
    "63      'SMG.L'         'Left Supramarginal gyrus'\n",
    "65      'ANG.L'         'Left Angular gyrus'\n",
    "67      'PCUN.L'        'Left Precuneus'\n",
    "49      'SOG.L'         'Left Superior occipital gyrus'\n",
    "51      'MOG.L'         'Left Middle occipital gyrus'\n",
    "53      'IOG.L'         'Left Inferior occipital gyrus'\n",
    "43      'CAL.L'         'Left Calcarine fissure and surrounding cortex'\n",
    "45      'CUN.L'         'Left Cuneus'\n",
    "47      'LING.L'        'Left Lingual gyrus'\n",
    "55      'FFG.L'         'Left Fusiform gyrus'\n",
    "79      'HES.L'         'Left Heschl gyrus'\n",
    "81      'STG.L'         'Left Superior temporal gyrus'\n",
    "85      'MTG.L'         'Left Middle temporal gyrus'\n",
    "89      'ITG.L'         'Left Inferior temporal gyrus'\n",
    "83      'TPOsup.L'      'Left Temporal pole: superior temporal gyrus'\n",
    "87      'TPOmid.L'      'Left Temporal pole: middle temporal gyrus'\n",
    "39      'PHG.L'         'Left Parahippocampal gyrus'\n",
    "31      'ACG.L'         'Left Anterior cingulate and paracingulate gyri'\n",
    "33      'DCG.L'         'Left Median cingulate and paracingulate gyri'\n",
    "35      'PCG.L'         'Left Posterior cingulate gyrus'\n",
    "29      'INS.L'         'Left Insula'\n",
    "28      'REC.R'         'Right Gyrus Rectus'\n",
    "22      'OLF.R'         'Right Olfactory Cortex'\n",
    "6       'ORBsup.R'      'Right Superior frontal gyrus, orbital part'\n",
    "26      'ORBsupmed.R'   'Right Superior frontal gyrus, medial orbital'\n",
    "10      'ORBmid.R'      'Right Middle frontal gyrus orbital part'\n",
    "16      'ORBinf.R'      'Right Inferior frontal gyrus, orbital part'\n",
    "4       'SFGdor.R'      'Right Superior frontal gyrus, dorsolateral'\n",
    "8       'MFG.R'         'Right Middle frontal gyrus'\n",
    "12      'IFGoperc.R'    'Right Inferior frontal gyrus, opercular part'\n",
    "14      'IFGtriang.R'   'Right Inferior frontal gyrus, triangular part'\n",
    "24      'SFGmed.R'      'Right Superior frontal gyrus, medial'\n",
    "20      'SMA.R'         'Right Supplementary motor area'\n",
    "70      'PCL.R'         'Right Paracentral lobule'\n",
    "2       'PreCG.R'       'Right Precentral gyrus'\n",
    "18      'ROL.R'         'Right Rolandic operculum'\n",
    "58      'PoCG.R'        'Right Postcentral gyrus'\n",
    "60      'SPG.R'         'Right Superior parietal gyrus'\n",
    "62      'IPL.R'         'Right Inferior parietal, but supramarginal and angular gyri'\n",
    "64      'SMG.R'         'Right Supramarginal gyrus'\n",
    "66      'ANG.R'         'Right Angular gyrus'\n",
    "68      'PCUN.R'        'Right Precuneus'\n",
    "50      'SOG.R'         'Right Superior occipital gyrus'\n",
    "52      'MOG.R'         'Right Middle occipital gyrus'\n",
    "54      'IOG.R'         'Right Inferior occipital gyrus'\n",
    "44      'CAL.R'         'Right Calcarine fissure and surrounding cortex'\n",
    "46      'CUN.R'         'Right Cuneus'\n",
    "48      'LING.R'        'Right Lingual gyrus'\n",
    "56      'FFG.R'         'Right Fusiform gyrus'\n",
    "80      'HES.R'         'Right Heschl gyrus'\n",
    "82      'STG.R'         'Right Superior temporal gyrus'\n",
    "86      'MTG.R'         'Right Middle temporal gyrus'\n",
    "90      'ITG.R'         'Right Inferior temporal gyrus'\n",
    "84      'TPOsup.R'      'Right Temporal pole: superior temporal gyrus'\n",
    "88      'TPOmid.R'      'Right Temporal pole: middle temporal gyrus'\n",
    "40      'PHG.R'         'Right Parahippocampal gyrus'\n",
    "32      'ACG.R'         'Right Anterior cingulate and paracingulate gyri'\n",
    "34      'DCG.R'         'Right Median cingulate and paracingulate gyri'\n",
    "36      'PCG.R'         'Right Posterior cingulate gyrus'\n",
    "30      'INS.R'         'Right Insula'"
   ]
  },
  {
   "cell_type": "markdown",
   "id": "90b0c73e",
   "metadata": {},
   "source": [
    "### Match civet-aal names to AAL abbreviations from SPM12 version"
   ]
  },
  {
   "cell_type": "code",
   "execution_count": 5,
   "id": "dda14cdf",
   "metadata": {},
   "outputs": [],
   "source": [
    "with open('data/civet_aal_labels.txt', \"r\") as f:\n",
    "    header = f.readline()\n",
    "    rows = f.readlines()\n",
    "\n",
    "columns = re.split(r\"\\s+\", header.strip())\n",
    "\n",
    "df = pd.DataFrame(columns = columns)\n",
    "\n",
    "for i,row in enumerate(rows):\n",
    "    row = re.split(r\"\\s{3,}\", row.strip())\n",
    "\n",
    "    row[0] = int(row[0])\n",
    "    row[1] = row[1].strip(\"'\\\"\")\n",
    "    row[2] = row[2].strip(\"'\\\"\")\n",
    "    \n",
    "    df.loc[i] = row\n",
    "\n",
    "civet_aal_roi_map = df.set_index('Number')\n",
    "civet_roi_to_idx_map = {d:i for i, d in civet_aal_roi_map.Description.items()}\n",
    "\n",
    "# df.Description.to_csv('clean_names.txt', index=None, header=None, sep=\"\\n\")\n",
    "# aal_roi_names['ROI-Name'].to_csv('short_names.txt', index=None, header=None)"
   ]
  },
  {
   "cell_type": "code",
   "execution_count": 6,
   "id": "1aa42d76",
   "metadata": {},
   "outputs": [
    {
     "data": {
      "text/html": [
       "<div>\n",
       "<style scoped>\n",
       "    .dataframe tbody tr th:only-of-type {\n",
       "        vertical-align: middle;\n",
       "    }\n",
       "\n",
       "    .dataframe tbody tr th {\n",
       "        vertical-align: top;\n",
       "    }\n",
       "\n",
       "    .dataframe thead th {\n",
       "        text-align: right;\n",
       "    }\n",
       "</style>\n",
       "<table border=\"1\" class=\"dataframe\">\n",
       "  <thead>\n",
       "    <tr style=\"text-align: right;\">\n",
       "      <th></th>\n",
       "      <th>Abbreviation</th>\n",
       "      <th>Description</th>\n",
       "    </tr>\n",
       "    <tr>\n",
       "      <th>Number</th>\n",
       "      <th></th>\n",
       "      <th></th>\n",
       "    </tr>\n",
       "  </thead>\n",
       "  <tbody>\n",
       "    <tr>\n",
       "      <th>27</th>\n",
       "      <td>REC.L</td>\n",
       "      <td>Left Gyrus Rectus</td>\n",
       "    </tr>\n",
       "    <tr>\n",
       "      <th>21</th>\n",
       "      <td>OLF.L</td>\n",
       "      <td>Left Olfactory Cortex</td>\n",
       "    </tr>\n",
       "    <tr>\n",
       "      <th>5</th>\n",
       "      <td>ORBsup.L</td>\n",
       "      <td>Left Superior frontal gyrus, orbital part</td>\n",
       "    </tr>\n",
       "    <tr>\n",
       "      <th>25</th>\n",
       "      <td>ORBsupmed.L</td>\n",
       "      <td>Left Superior frontal gyrus, medial orbital</td>\n",
       "    </tr>\n",
       "    <tr>\n",
       "      <th>9</th>\n",
       "      <td>ORBmid.L</td>\n",
       "      <td>Left Middle frontal gyrus orbital part</td>\n",
       "    </tr>\n",
       "    <tr>\n",
       "      <th>...</th>\n",
       "      <td>...</td>\n",
       "      <td>...</td>\n",
       "    </tr>\n",
       "    <tr>\n",
       "      <th>40</th>\n",
       "      <td>PHG.R</td>\n",
       "      <td>Right Parahippocampal gyrus</td>\n",
       "    </tr>\n",
       "    <tr>\n",
       "      <th>32</th>\n",
       "      <td>ACG.R</td>\n",
       "      <td>Right Anterior cingulate and paracingulate gyri</td>\n",
       "    </tr>\n",
       "    <tr>\n",
       "      <th>34</th>\n",
       "      <td>DCG.R</td>\n",
       "      <td>Right Median cingulate and paracingulate gyri</td>\n",
       "    </tr>\n",
       "    <tr>\n",
       "      <th>36</th>\n",
       "      <td>PCG.R</td>\n",
       "      <td>Right Posterior cingulate gyrus</td>\n",
       "    </tr>\n",
       "    <tr>\n",
       "      <th>30</th>\n",
       "      <td>INS.R</td>\n",
       "      <td>Right Insula</td>\n",
       "    </tr>\n",
       "  </tbody>\n",
       "</table>\n",
       "<p>78 rows × 2 columns</p>\n",
       "</div>"
      ],
      "text/plain": [
       "       Abbreviation                                      Description\n",
       "Number                                                              \n",
       "27            REC.L                                Left Gyrus Rectus\n",
       "21            OLF.L                            Left Olfactory Cortex\n",
       "5          ORBsup.L        Left Superior frontal gyrus, orbital part\n",
       "25      ORBsupmed.L      Left Superior frontal gyrus, medial orbital\n",
       "9          ORBmid.L           Left Middle frontal gyrus orbital part\n",
       "...             ...                                              ...\n",
       "40            PHG.R                      Right Parahippocampal gyrus\n",
       "32            ACG.R  Right Anterior cingulate and paracingulate gyri\n",
       "34            DCG.R    Right Median cingulate and paracingulate gyri\n",
       "36            PCG.R                  Right Posterior cingulate gyrus\n",
       "30            INS.R                                     Right Insula\n",
       "\n",
       "[78 rows x 2 columns]"
      ]
     },
     "execution_count": 6,
     "metadata": {},
     "output_type": "execute_result"
    }
   ],
   "source": [
    "civet_aal_roi_map"
   ]
  },
  {
   "cell_type": "code",
   "execution_count": 7,
   "id": "094e8f8a",
   "metadata": {},
   "outputs": [],
   "source": [
    "# Open the JSON file and load it into a dictionary\n",
    "with open('data/aal-atlas-name-mapping.json', 'r') as file:\n",
    "    short_to_desc = json.load(file)\n",
    "\n",
    "desc_to_short = {v:k for k,v in short_to_desc.items()}\n",
    "\n",
    "# Fixing typos and shortening descriptions\n",
    "short_to_desc['background'] = \"Background\"\n",
    "short_to_desc['Frontal_Sup_Orb_L'] = 'Left Superior frontal gyrus, orbital part'\n",
    "short_to_desc['Frontal_Sup_Orb_R'] = 'Right Superior frontal gyrus, orbital part'\n",
    "short_to_desc['Parietal_Inf_L']    = 'Left Inferior parietal'\n",
    "short_to_desc['Parietal_Inf_R']    = 'Right Inferior parietal'"
   ]
  },
  {
   "cell_type": "code",
   "execution_count": 8,
   "id": "06b41538",
   "metadata": {},
   "outputs": [],
   "source": [
    "for r in aal.labels:\n",
    "    if r not in short_to_desc: print(r)"
   ]
  },
  {
   "cell_type": "code",
   "execution_count": 9,
   "id": "e1e7d70c",
   "metadata": {},
   "outputs": [
    {
     "data": {
      "text/plain": [
       "(['Left Hippocampus',\n",
       "  'Right Hippocampus',\n",
       "  'Left Amygdala',\n",
       "  'Right Amygdala',\n",
       "  'Left Caudate',\n",
       "  'Right Caudate',\n",
       "  'Left Putamen',\n",
       "  'Right Putamen',\n",
       "  'Left Pallidum',\n",
       "  'Right Pallidum',\n",
       "  'Left Thalamus',\n",
       "  'Right Thalamus',\n",
       "  'Left Crus I of cerebellar hemisphere',\n",
       "  'Right Crus I of cerebellar hemisphere',\n",
       "  'Left Crus II of cerebellar hemisphere',\n",
       "  'Right Crus II of cerebellar hemisphere',\n",
       "  'Left Lobule III of cerebellar hemisphere',\n",
       "  'Right Lobule III of cerebellar hemisphere',\n",
       "  'Left Lobule IV, V of cerebellar hemisphere',\n",
       "  'Right Lobule IV, V of cerebellar hemisphere',\n",
       "  'Left Lobule VI of cerebellar hemisphere',\n",
       "  'Right Lobule VI of cerebellar hemisphere',\n",
       "  'Left Lobule VIIB of cerebellar hemisphere',\n",
       "  'Right Lobule VIIB of cerebellar hemisphere',\n",
       "  'Left Lobule VIII of cerebellar hemisphere',\n",
       "  'Right Lobule VIII of cerebellar hemisphere',\n",
       "  'Left Lobule IX of cerebellar hemisphere',\n",
       "  'Right Lobule IX of cerebellar hemisphere',\n",
       "  'Left Lobule X of cerebellar hemisphere',\n",
       "  'Right Lobule X of cerebellar hemisphere',\n",
       "  'Lobule I, II of vermis',\n",
       "  'Lobule III of vermis',\n",
       "  'Lobule IV, V of vermis',\n",
       "  'Lobule VI of vermis',\n",
       "  'Lobule VII of vermis',\n",
       "  'Lobule VIII of vermis',\n",
       "  'Lobule IX of vermis',\n",
       "  'Lobule X of vermis'],\n",
       " 78)"
      ]
     },
     "execution_count": 9,
     "metadata": {},
     "output_type": "execute_result"
    }
   ],
   "source": [
    "clean_names = set(df.Description)\n",
    "short_names = set(aal.labels)\n",
    "\n",
    "missing_civet_labels = []\n",
    "civet_short_names = []\n",
    "\n",
    "for k,v in desc_to_short.items():\n",
    "    if k not in clean_names:\n",
    "        missing_civet_labels.append(k)\n",
    "    else:\n",
    "        civet_short_names.append(v)\n",
    "    if v not in short_names: print(v, \"Not present in AAL labels\")\n",
    "\n",
    "missing_civet_labels, len(civet_short_names)"
   ]
  },
  {
   "cell_type": "markdown",
   "id": "6de2cedf",
   "metadata": {},
   "source": [
    "### Loading DS information"
   ]
  },
  {
   "cell_type": "code",
   "execution_count": 10,
   "id": "0ee2227a",
   "metadata": {},
   "outputs": [
    {
     "data": {
      "text/plain": [
       "(16, 12)"
      ]
     },
     "execution_count": 10,
     "metadata": {},
     "output_type": "execute_result"
    }
   ],
   "source": [
    "dssamples = roi_likelihoods.query(\"Cohort == 'IBIS-DS'\")\n",
    "ds_bmu_ids = pd.read_csv(\"data/ds_prototypes_11x11.csv\")\n",
    "largest_prototype_bmu_idx = ds_bmu_ids.groupby('bmu').count().idxmax()[0]\n",
    "ds_max_prototype_ids = ds_bmu_ids[ds_bmu_ids.bmu == largest_prototype_bmu_idx]['ID']\n",
    "prot_ids_set = set(ds_max_prototype_ids)\n",
    "ds_prototypes = dssamples.merge(ds_max_prototype_ids, on='ID')\n",
    "ds_non_prototypes = dssamples[~dssamples['ID'].isin(ds_max_prototype_ids)]\n",
    "len(ds_prototypes), len(ds_non_prototypes)"
   ]
  },
  {
   "cell_type": "code",
   "execution_count": 11,
   "id": "e7eca2ea",
   "metadata": {},
   "outputs": [
    {
     "data": {
      "text/html": [
       "<div>\n",
       "<style scoped>\n",
       "    .dataframe tbody tr th:only-of-type {\n",
       "        vertical-align: middle;\n",
       "    }\n",
       "\n",
       "    .dataframe tbody tr th {\n",
       "        vertical-align: top;\n",
       "    }\n",
       "\n",
       "    .dataframe thead th {\n",
       "        text-align: right;\n",
       "    }\n",
       "</style>\n",
       "<table border=\"1\" class=\"dataframe\">\n",
       "  <thead>\n",
       "    <tr style=\"text-align: right;\">\n",
       "      <th>Behavior</th>\n",
       "      <th>CBCL-depressed_score</th>\n",
       "      <th>CBCL-internalizing_score</th>\n",
       "      <th>CBCL-sluggish_cogn_tempo_score</th>\n",
       "      <th>CBCL-social_prob_score</th>\n",
       "      <th>VSA DAS_SA,rd_ABILITY_SCORE</th>\n",
       "      <th>Vineland-domestic_RAW_SCORE</th>\n",
       "    </tr>\n",
       "    <tr>\n",
       "      <th>ROI</th>\n",
       "      <th></th>\n",
       "      <th></th>\n",
       "      <th></th>\n",
       "      <th></th>\n",
       "      <th></th>\n",
       "      <th></th>\n",
       "    </tr>\n",
       "  </thead>\n",
       "  <tbody>\n",
       "    <tr>\n",
       "      <th>Right Superior parietal gyrus</th>\n",
       "      <td>0.00000</td>\n",
       "      <td>0.0</td>\n",
       "      <td>0.0</td>\n",
       "      <td>0.0</td>\n",
       "      <td>-0.27657</td>\n",
       "      <td>0.000000</td>\n",
       "    </tr>\n",
       "    <tr>\n",
       "      <th>Right Temporal pole: middle temporal gyrus</th>\n",
       "      <td>0.00000</td>\n",
       "      <td>0.0</td>\n",
       "      <td>0.0</td>\n",
       "      <td>0.0</td>\n",
       "      <td>0.00000</td>\n",
       "      <td>-0.407081</td>\n",
       "    </tr>\n",
       "    <tr>\n",
       "      <th>Right Thalamus</th>\n",
       "      <td>0.59012</td>\n",
       "      <td>0.0</td>\n",
       "      <td>0.0</td>\n",
       "      <td>0.0</td>\n",
       "      <td>0.00000</td>\n",
       "      <td>0.000000</td>\n",
       "    </tr>\n",
       "  </tbody>\n",
       "</table>\n",
       "</div>"
      ],
      "text/plain": [
       "Behavior                                    CBCL-depressed_score  \\\n",
       "ROI                                                                \n",
       "Right Superior parietal gyrus                            0.00000   \n",
       "Right Temporal pole: middle temporal gyrus               0.00000   \n",
       "Right Thalamus                                           0.59012   \n",
       "\n",
       "Behavior                                    CBCL-internalizing_score  \\\n",
       "ROI                                                                    \n",
       "Right Superior parietal gyrus                                    0.0   \n",
       "Right Temporal pole: middle temporal gyrus                       0.0   \n",
       "Right Thalamus                                                   0.0   \n",
       "\n",
       "Behavior                                    CBCL-sluggish_cogn_tempo_score  \\\n",
       "ROI                                                                          \n",
       "Right Superior parietal gyrus                                          0.0   \n",
       "Right Temporal pole: middle temporal gyrus                             0.0   \n",
       "Right Thalamus                                                         0.0   \n",
       "\n",
       "Behavior                                    CBCL-social_prob_score  \\\n",
       "ROI                                                                  \n",
       "Right Superior parietal gyrus                                  0.0   \n",
       "Right Temporal pole: middle temporal gyrus                     0.0   \n",
       "Right Thalamus                                                 0.0   \n",
       "\n",
       "Behavior                                    VSA DAS_SA,rd_ABILITY_SCORE  \\\n",
       "ROI                                                                       \n",
       "Right Superior parietal gyrus                                  -0.27657   \n",
       "Right Temporal pole: middle temporal gyrus                      0.00000   \n",
       "Right Thalamus                                                  0.00000   \n",
       "\n",
       "Behavior                                    Vineland-domestic_RAW_SCORE  \n",
       "ROI                                                                      \n",
       "Right Superior parietal gyrus                                  0.000000  \n",
       "Right Temporal pole: middle temporal gyrus                    -0.407081  \n",
       "Right Thalamus                                                 0.000000  "
      ]
     },
     "execution_count": 11,
     "metadata": {},
     "output_type": "execute_result"
    }
   ],
   "source": [
    "significant_rois = pd.read_csv(\"data/proto-significant-rois.csv\", index_col=0)\n",
    "corrmatrix = pd.read_csv(\"data/corrmatrix.csv\", index_col=0)\n",
    "corr_pvals = pd.read_csv(\"data/corr_pvals.csv\", index_col=0)\n",
    "\n",
    "significant_corrs = pd.merge(significant_rois.ROI, corr_pvals, on='ROI').astype({'p-value':float})\n",
    "significant_corrs = significant_corrs[significant_corrs['p-value'] < 0.01]\n",
    "significant_corr_behaviours = set(significant_corrs.Behavior)\n",
    "significant_corr_rois = set(significant_corrs.ROI)\n",
    "\n",
    "roi_correlations = significant_corrs.pivot(index='ROI', columns='Behavior', values='Corr').fillna(0)\n",
    "roi_correlations.tail(3)"
   ]
  },
  {
   "cell_type": "code",
   "execution_count": 12,
   "id": "d7619271",
   "metadata": {},
   "outputs": [],
   "source": [
    "ds_avg_scores = roi_pct_scores.query(\"Cohort == 'IBIS-DS'\").mean(0)\n",
    "ds_avg_ll = roi_likelihoods.query(\"Cohort == 'IBIS-DS'\").mean(0)\n",
    "\n",
    "proto_avg_scores = ds_prototypes.mean(0)\n",
    "non_proto_avg_scores = ds_non_prototypes.mean(0)\n",
    "\n",
    "ranked_rois = [c for c in proto_avg_scores.sort_values(ascending=False).index if c in short_to_desc and \"_R\" in c]\n",
    "sig_roi_short_names = [desc_to_short[r] for r in significant_rois.ROI if r in desc_to_short]"
   ]
  },
  {
   "cell_type": "code",
   "execution_count": 13,
   "id": "63029517",
   "metadata": {},
   "outputs": [
    {
     "data": {
      "text/plain": [
       "0.010   -14.099391\n",
       "0.100   -12.494625\n",
       "0.500    -9.591890\n",
       "0.800    -5.004348\n",
       "0.900    -2.895659\n",
       "0.999     1.998619\n",
       "1.000     2.166932\n",
       "dtype: float64"
      ]
     },
     "execution_count": 13,
     "metadata": {},
     "output_type": "execute_result"
    }
   ],
   "source": [
    "proto_avg_scores[sig_roi_short_names].quantile([0.01, 0.1, 0.5, 0.8, 0.9, 0.999, 1.0])"
   ]
  },
  {
   "cell_type": "code",
   "execution_count": 14,
   "id": "b5e7e84f",
   "metadata": {},
   "outputs": [
    {
     "data": {
      "image/png": "[encoded data removed]",
      "text/plain": [
       "<Figure size 640x480 with 1 Axes>"
      ]
     },
     "metadata": {},
     "output_type": "display_data"
    }
   ],
   "source": [
    "ds_avg_ll.hist(label=\"DS-All\")\n",
    "proto_avg_scores.hist(label='Proto')\n",
    "non_proto_avg_scores.hist(label='non-proto');"
   ]
  },
  {
   "cell_type": "code",
   "execution_count": 15,
   "id": "2cc477de",
   "metadata": {},
   "outputs": [
    {
     "name": "stdout",
     "output_type": "stream",
     "text": [
      "88: Right Temporal pole: middle temporal gyrus, Temporal_Pole_Mid_R\n",
      "6: Right Superior frontal gyrus, orbital part, Frontal_Sup_Orb_R\n",
      "10: Right Middle frontal gyrus orbital part, Frontal_Mid_Orb_R\n",
      "28: Right Gyrus Rectus, Rectus_R\n",
      "22: Right Olfactory Cortex, Olfactory_R\n",
      "40: Right Parahippocampal gyrus, ParaHippocampal_R\n"
     ]
    }
   ],
   "source": [
    "for abbv in ranked_rois[:10]:\n",
    "    name = short_to_desc[abbv]\n",
    "    if name in civet_roi_to_idx_map:\n",
    "        idx = civet_roi_to_idx_map[name]\n",
    "        print(f\"{idx}: {name}, {abbv}\")"
   ]
  },
  {
   "cell_type": "code",
   "execution_count": 16,
   "id": "cb7c72eb",
   "metadata": {},
   "outputs": [
    {
     "data": {
      "text/plain": [
       "('Right Temporal pole: middle temporal gyrus', 'Temporal_Pole_Mid_R')"
      ]
     },
     "execution_count": 16,
     "metadata": {},
     "output_type": "execute_result"
    }
   ],
   "source": [
    "civet_aal_roi_map.loc[88, 'Description'], desc_to_short['Right Temporal pole: middle temporal gyrus']"
   ]
  },
  {
   "cell_type": "code",
   "execution_count": 17,
   "id": "9f0843cb",
   "metadata": {},
   "outputs": [],
   "source": [
    "def populate_anomaly_scores(polydata):\n",
    "#     pointwise_anomaly_scores = []\n",
    "#     pointwise_anomaly_likelihoods = []\n",
    "#     pointwise_non_proto_scores = []\n",
    "    \n",
    "    pointwise_sig_rois = []\n",
    "    pointwise_proto_scores = []\n",
    "    \n",
    "    \n",
    "    p = polydata.points\n",
    "    aal_roi = polydata.point_data['AAL']\n",
    "\n",
    "    for i in range(len(p)):\n",
    "        idx = int(aal_roi[i])\n",
    "        if idx == 0:\n",
    "            roi_short_name = 'background'\n",
    "        else:\n",
    "            roi = civet_aal_roi_map.loc[idx, 'Description']\n",
    "            roi_short_name = desc_to_short[roi]\n",
    "        \n",
    "        if roi_short_name in sig_roi_short_names:\n",
    "            pointwise_sig_rois.append(proto_avg_scores[roi_short_name])\n",
    "        else: # put in baseline/dummy values\n",
    "            pointwise_sig_rois.append(proto_avg_scores[roi_short_name]*0 + proto_avg_scores.min())\n",
    "        \n",
    "#         pointwise_anomaly_scores.append(ds_avg_scores[roi_short_name])\n",
    "#         pointwise_anomaly_likelihoods.append(ds_avg_ll[roi_short_name])\n",
    "#         pointwise_non_proto_scores.append(non_proto_avg_scores[roi_short_name])\n",
    "        pointwise_proto_scores.append(proto_avg_scores[roi_short_name])\n",
    "        \n",
    "\n",
    "#     polydata.point_data['anomaly-percentile-scores'] = np.array(pointwise_anomaly_scores)\n",
    "#     polydata.point_data['anomaly-likelihood'] = np.array(pointwise_anomaly_likelihoods)\n",
    "#     polydata.point_data['prototype-difference'] = np.array(pointwise_proto_scores) - np.array(pointwise_non_proto_scores)\n",
    "#     polydata.point_data['nonproto-anomaly-ll'] = np.array(pointwise_non_proto_scores)\n",
    "\n",
    "    polydata.point_data['prototype-anomaly-ll'] = np.array(pointwise_proto_scores)\n",
    "    polydata.point_data['proto-significant-roi'] = np.array(pointwise_sig_rois)\n",
    "    \n",
    "    \n",
    "def populate_correlations(polydata):\n",
    "    \n",
    "    corrmap = {b:[] for b in significant_corr_behaviours}\n",
    "    p = polydata.points\n",
    "    aal_roi = polydata.point_data['AAL']\n",
    "    \n",
    "    for behavior in corrmap:\n",
    "        print(behavior)\n",
    "        for i in range(len(p)):\n",
    "            idx = int(aal_roi[i])\n",
    "            if idx == 0:\n",
    "                roi = 'background'\n",
    "            else:\n",
    "                roi = civet_aal_roi_map.loc[idx, 'Description']\n",
    "                roi_short_name = desc_to_short[roi]\n",
    "            \n",
    "            roi_cleaned_name = short_to_desc[roi_short_name]\n",
    "    \n",
    "            if roi_cleaned_name in significant_corr_rois:\n",
    "                corr = roi_correlations.loc[roi_cleaned_name, behavior]\n",
    "            else:\n",
    "                corr = 0\n",
    "            corrmap[behavior].append(corr)\n",
    "\n",
    "        polydata.point_data[behavior] = np.array(corrmap[behavior])"
   ]
  },
  {
   "cell_type": "code",
   "execution_count": null,
   "id": "206f4b55",
   "metadata": {},
   "outputs": [],
   "source": [
    "## left hemisphere\n",
    "filename = \"data/icbm_avg_mid_sym_mc_left_hires_withAAL.vtk\"\n",
    "polydata = pv.read(filename)\n",
    "populate_anomaly_scores(polydata)\n",
    "populate_correlations(polydata)\n",
    "polydata.save('data/ds_anomaly_scores_left.vtk',binary=False)"
   ]
  },
  {
   "cell_type": "code",
   "execution_count": null,
   "id": "b12eac3c",
   "metadata": {},
   "outputs": [],
   "source": [
    "## right hemisphere\n",
    "filename = \"data/icbm_avg_mid_sym_mc_right_hires_withAAL.vtk\"\n",
    "polydata = pv.read(filename)\n",
    "populate_anomaly_scores(polydata)\n",
    "populate_correlations(polydata)\n",
    "polydata.save('data/ds_anomaly_scores_right.vtk',binary=False)"
   ]
  },
  {
   "cell_type": "code",
   "execution_count": null,
   "id": "8d1a06c4",
   "metadata": {},
   "outputs": [],
   "source": []
  }
 ],
 "metadata": {
  "kernelspec": {
   "display_name": "Python 3 (ipykernel)",
   "language": "python",
   "name": "python3"
  },
  "language_info": {
   "codemirror_mode": {
    "name": "ipython",
    "version": 3
   },
   "file_extension": ".py",
   "mimetype": "text/x-python",
   "name": "python",
   "nbconvert_exporter": "python",
   "pygments_lexer": "ipython3",
   "version": "3.10.6"
  }
 },
 "nbformat": 4,
 "nbformat_minor": 5
}
